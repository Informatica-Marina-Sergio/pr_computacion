{
  "nbformat": 4,
  "nbformat_minor": 0,
  "metadata": {
    "colab": {
      "name": "Trabajo pr_comput.ipynb",
      "provenance": [],
      "collapsed_sections": []
    },
    "kernelspec": {
      "name": "python3",
      "display_name": "Python 3"
    },
    "language_info": {
      "name": "python"
    },
    "accelerator": "GPU"
  },
  "cells": [
    {
      "cell_type": "markdown",
      "source": [
        "## Importar las librerias necesarias"
      ],
      "metadata": {
        "id": "I4CPz0QHpHhW"
      }
    },
    {
      "cell_type": "code",
      "source": [
        "import pandas as pd\n",
        "import os, re, html, csv\n",
        "import numpy as np"
      ],
      "metadata": {
        "id": "OqnZh3l-wgap"
      },
      "execution_count": null,
      "outputs": []
    },
    {
      "cell_type": "code",
      "source": [
        "!pip install --upgrade xlrd "
      ],
      "metadata": {
        "colab": {
          "base_uri": "https://localhost:8080/"
        },
        "id": "INfoYV5t1hpe",
        "outputId": "9c3add65-b5a9-4dc9-8df0-16a08333e2b9"
      },
      "execution_count": null,
      "outputs": [
        {
          "output_type": "stream",
          "name": "stdout",
          "text": [
            "Requirement already satisfied: xlrd in /usr/local/lib/python3.7/dist-packages (2.0.1)\n"
          ]
        }
      ]
    },
    {
      "cell_type": "markdown",
      "source": [
        "## Importar los datos"
      ],
      "metadata": {
        "id": "xX2kpDwrpQcp"
      }
    },
    {
      "cell_type": "code",
      "execution_count": null,
      "metadata": {
        "id": "IKcIfsaAwLGM"
      },
      "outputs": [],
      "source": [
        "df =pd.read_excel('/content/delitos_odio.xls')  "
      ]
    },
    {
      "cell_type": "markdown",
      "source": [
        "## Creamos una columna que aune los titulos, sub titulos y noticias"
      ],
      "metadata": {
        "id": "-COIGNeJpWHr"
      }
    },
    {
      "cell_type": "code",
      "source": [
        "df['all_data'] =df['titulos'] + \" \" + df['sub_titulos'] + \" \" + df['noticias']"
      ],
      "metadata": {
        "id": "AvPZOp1dxOZP"
      },
      "execution_count": null,
      "outputs": []
    },
    {
      "cell_type": "code",
      "source": [
        "df['all_data'] =df['all_data'].str.lower()"
      ],
      "metadata": {
        "id": "vyzB32ubgnNE"
      },
      "execution_count": null,
      "outputs": []
    },
    {
      "cell_type": "code",
      "source": [
        "df.head()"
      ],
      "metadata": {
        "colab": {
          "base_uri": "https://localhost:8080/",
          "height": 511
        },
        "id": "FU43chsuxlU2",
        "outputId": "f8ff01da-7f6f-4198-e8c6-f62faaaf5e72"
      },
      "execution_count": null,
      "outputs": [
        {
          "output_type": "execute_result",
          "data": {
            "text/html": [
              "\n",
              "  <div id=\"df-d4385326-2350-4cbe-ad78-e913125bb35d\">\n",
              "    <div class=\"colab-df-container\">\n",
              "      <div>\n",
              "<style scoped>\n",
              "    .dataframe tbody tr th:only-of-type {\n",
              "        vertical-align: middle;\n",
              "    }\n",
              "\n",
              "    .dataframe tbody tr th {\n",
              "        vertical-align: top;\n",
              "    }\n",
              "\n",
              "    .dataframe thead th {\n",
              "        text-align: right;\n",
              "    }\n",
              "</style>\n",
              "<table border=\"1\" class=\"dataframe\">\n",
              "  <thead>\n",
              "    <tr style=\"text-align: right;\">\n",
              "      <th></th>\n",
              "      <th>titulos</th>\n",
              "      <th>sub_titulos</th>\n",
              "      <th>noticias</th>\n",
              "      <th>delito_odio</th>\n",
              "      <th>all_data</th>\n",
              "    </tr>\n",
              "  </thead>\n",
              "  <tbody>\n",
              "    <tr>\n",
              "      <th>0</th>\n",
              "      <td>12 años de cárcel: el castigo que piden por la...</td>\n",
              "      <td>La acusación le atribuye la autoría de un deli...</td>\n",
              "      <td>Bilal M., detenido por agredir y lesionar a un...</td>\n",
              "      <td>1</td>\n",
              "      <td>12 años de cárcel: el castigo que piden por la...</td>\n",
              "    </tr>\n",
              "    <tr>\n",
              "      <th>1</th>\n",
              "      <td>Anelka celebró un gol con un gesto considerado...</td>\n",
              "      <td>Realizó la \"quenelle\", una expresión del humor...</td>\n",
              "      <td>El futbolista francés Nicolas Anelka avivó hoy...</td>\n",
              "      <td>1</td>\n",
              "      <td>anelka celebró un gol con un gesto considerado...</td>\n",
              "    </tr>\n",
              "    <tr>\n",
              "      <th>2</th>\n",
              "      <td>Beatriz de Vicente explica por qué las denunci...</td>\n",
              "      <td>La broma de Juan del Val sobre cómo algunos pa...</td>\n",
              "      <td>Juan del Val ha sido denunciado ante el Defens...</td>\n",
              "      <td>1</td>\n",
              "      <td>beatriz de vicente explica por qué las denunci...</td>\n",
              "    </tr>\n",
              "    <tr>\n",
              "      <th>3</th>\n",
              "      <td>La Justicia confirma el archivo de la querella...</td>\n",
              "      <td>La Audiencia no ve delito de injurias y entien...</td>\n",
              "      <td>La Audiencia Provincial de Madrid ha rechazado...</td>\n",
              "      <td>1</td>\n",
              "      <td>la justicia confirma el archivo de la querella...</td>\n",
              "    </tr>\n",
              "    <tr>\n",
              "      <th>4</th>\n",
              "      <td>La Fiscalía denuncia a la falangista Isabel Pe...</td>\n",
              "      <td>La joven ya estaba siendo investigada por sus ...</td>\n",
              "      <td>La Fiscalía de Madrid ha interpuesto denuncia ...</td>\n",
              "      <td>1</td>\n",
              "      <td>la fiscalía denuncia a la falangista isabel pe...</td>\n",
              "    </tr>\n",
              "  </tbody>\n",
              "</table>\n",
              "</div>\n",
              "      <button class=\"colab-df-convert\" onclick=\"convertToInteractive('df-d4385326-2350-4cbe-ad78-e913125bb35d')\"\n",
              "              title=\"Convert this dataframe to an interactive table.\"\n",
              "              style=\"display:none;\">\n",
              "        \n",
              "  <svg xmlns=\"http://www.w3.org/2000/svg\" height=\"24px\"viewBox=\"0 0 24 24\"\n",
              "       width=\"24px\">\n",
              "    <path d=\"M0 0h24v24H0V0z\" fill=\"none\"/>\n",
              "    <path d=\"M18.56 5.44l.94 2.06.94-2.06 2.06-.94-2.06-.94-.94-2.06-.94 2.06-2.06.94zm-11 1L8.5 8.5l.94-2.06 2.06-.94-2.06-.94L8.5 2.5l-.94 2.06-2.06.94zm10 10l.94 2.06.94-2.06 2.06-.94-2.06-.94-.94-2.06-.94 2.06-2.06.94z\"/><path d=\"M17.41 7.96l-1.37-1.37c-.4-.4-.92-.59-1.43-.59-.52 0-1.04.2-1.43.59L10.3 9.45l-7.72 7.72c-.78.78-.78 2.05 0 2.83L4 21.41c.39.39.9.59 1.41.59.51 0 1.02-.2 1.41-.59l7.78-7.78 2.81-2.81c.8-.78.8-2.07 0-2.86zM5.41 20L4 18.59l7.72-7.72 1.47 1.35L5.41 20z\"/>\n",
              "  </svg>\n",
              "      </button>\n",
              "      \n",
              "  <style>\n",
              "    .colab-df-container {\n",
              "      display:flex;\n",
              "      flex-wrap:wrap;\n",
              "      gap: 12px;\n",
              "    }\n",
              "\n",
              "    .colab-df-convert {\n",
              "      background-color: #E8F0FE;\n",
              "      border: none;\n",
              "      border-radius: 50%;\n",
              "      cursor: pointer;\n",
              "      display: none;\n",
              "      fill: #1967D2;\n",
              "      height: 32px;\n",
              "      padding: 0 0 0 0;\n",
              "      width: 32px;\n",
              "    }\n",
              "\n",
              "    .colab-df-convert:hover {\n",
              "      background-color: #E2EBFA;\n",
              "      box-shadow: 0px 1px 2px rgba(60, 64, 67, 0.3), 0px 1px 3px 1px rgba(60, 64, 67, 0.15);\n",
              "      fill: #174EA6;\n",
              "    }\n",
              "\n",
              "    [theme=dark] .colab-df-convert {\n",
              "      background-color: #3B4455;\n",
              "      fill: #D2E3FC;\n",
              "    }\n",
              "\n",
              "    [theme=dark] .colab-df-convert:hover {\n",
              "      background-color: #434B5C;\n",
              "      box-shadow: 0px 1px 3px 1px rgba(0, 0, 0, 0.15);\n",
              "      filter: drop-shadow(0px 1px 2px rgba(0, 0, 0, 0.3));\n",
              "      fill: #FFFFFF;\n",
              "    }\n",
              "  </style>\n",
              "\n",
              "      <script>\n",
              "        const buttonEl =\n",
              "          document.querySelector('#df-d4385326-2350-4cbe-ad78-e913125bb35d button.colab-df-convert');\n",
              "        buttonEl.style.display =\n",
              "          google.colab.kernel.accessAllowed ? 'block' : 'none';\n",
              "\n",
              "        async function convertToInteractive(key) {\n",
              "          const element = document.querySelector('#df-d4385326-2350-4cbe-ad78-e913125bb35d');\n",
              "          const dataTable =\n",
              "            await google.colab.kernel.invokeFunction('convertToInteractive',\n",
              "                                                     [key], {});\n",
              "          if (!dataTable) return;\n",
              "\n",
              "          const docLinkHtml = 'Like what you see? Visit the ' +\n",
              "            '<a target=\"_blank\" href=https://colab.research.google.com/notebooks/data_table.ipynb>data table notebook</a>'\n",
              "            + ' to learn more about interactive tables.';\n",
              "          element.innerHTML = '';\n",
              "          dataTable['output_type'] = 'display_data';\n",
              "          await google.colab.output.renderOutput(dataTable, element);\n",
              "          const docLink = document.createElement('div');\n",
              "          docLink.innerHTML = docLinkHtml;\n",
              "          element.appendChild(docLink);\n",
              "        }\n",
              "      </script>\n",
              "    </div>\n",
              "  </div>\n",
              "  "
            ],
            "text/plain": [
              "                                             titulos  ...                                           all_data\n",
              "0  12 años de cárcel: el castigo que piden por la...  ...  12 años de cárcel: el castigo que piden por la...\n",
              "1  Anelka celebró un gol con un gesto considerado...  ...  anelka celebró un gol con un gesto considerado...\n",
              "2  Beatriz de Vicente explica por qué las denunci...  ...  beatriz de vicente explica por qué las denunci...\n",
              "3  La Justicia confirma el archivo de la querella...  ...  la justicia confirma el archivo de la querella...\n",
              "4  La Fiscalía denuncia a la falangista Isabel Pe...  ...  la fiscalía denuncia a la falangista isabel pe...\n",
              "\n",
              "[5 rows x 5 columns]"
            ]
          },
          "metadata": {},
          "execution_count": 6
        }
      ]
    },
    {
      "cell_type": "markdown",
      "source": [
        "## Creamos la variable objetivo"
      ],
      "metadata": {
        "id": "E6UM99uQpeob"
      }
    },
    {
      "cell_type": "code",
      "source": [
        "df =df.replace({1:'odio',0:'no_odio'})\n",
        "df['delito_odio'] = df['delito_odio'].astype(\"category\")\n",
        "df_y = df['delito_odio'].cat.codes"
      ],
      "metadata": {
        "id": "pf78ktl0yNad"
      },
      "execution_count": null,
      "outputs": []
    },
    {
      "cell_type": "code",
      "source": [
        "labels = df.delito_odio.cat.categories.tolist()\n",
        "labels_codes = {}\n",
        "for i, label in enumerate(labels):\n",
        "    labels_codes[label] = i"
      ],
      "metadata": {
        "id": "15F6hORsyC39"
      },
      "execution_count": null,
      "outputs": []
    },
    {
      "cell_type": "markdown",
      "source": [
        "## Creamos una funcion para evaluar los modelos aplicando cross validation"
      ],
      "metadata": {
        "id": "-KN02DzbprU9"
      }
    },
    {
      "cell_type": "code",
      "source": [
        "from sklearn import metrics\n",
        "from sklearn.model_selection import cross_validate\n",
        "\n",
        "precision_neg = metrics.make_scorer(\n",
        "    metrics.precision_score,\n",
        "    average='micro',\n",
        "    labels=[labels_codes['no_odio']])\n",
        "precision_pos = metrics.make_scorer(\n",
        "    metrics.precision_score,\n",
        "    average='micro',\n",
        "    labels=[labels_codes['odio']])\n",
        "recall_neg = metrics.make_scorer(\n",
        "    metrics.recall_score,\n",
        "    average='micro',\n",
        "    labels=[labels_codes['no_odio']])\n",
        "recall_pos = metrics.make_scorer(\n",
        "    metrics.recall_score,\n",
        "    average='micro',\n",
        "    labels=[labels_codes['odio']])\n",
        "\n",
        "\n",
        "def evaluate_model(model, features, labels, cv=10, fit_params=None):\n",
        "    scores = cross_validate(\n",
        "        model,\n",
        "        features,\n",
        "        labels,\n",
        "        cv=cv,\n",
        "        fit_params=fit_params,\n",
        "        scoring={\n",
        "            'recall_macro': 'recall_macro',\n",
        "            'accuracy': 'accuracy',\n",
        "            'recall_neg': recall_neg,\n",
        "            'recall_pos': recall_pos,\n",
        "            'precision_neg': precision_neg,\n",
        "            'precision_pos':precision_pos\n",
        "        },\n",
        "        n_jobs=-1,\n",
        "    )\n",
        "\n",
        "    results = pd.DataFrame(scores).drop(['fit_time', 'score_time'], axis=1)\n",
        "    results.columns = pd.MultiIndex.from_tuples([c.split('_', maxsplit=1) for c in results.columns])    \n",
        "    summary = results.describe()\n",
        "    results = results.append(summary.loc[['mean', 'std']])\n",
        "    \n",
        "    def custom_style(row):\n",
        "        color = 'white'\n",
        "        if row.name == 'mean':\n",
        "            color = 'yellow'\n",
        "        return ['background-color: %s' % color]*len(row.values)\n",
        "    results = results[sorted(results.columns, key=lambda x: x[0], reverse=True)]\n",
        "    results = results.style.apply(custom_style, axis=1)\n",
        "        \n",
        "    return results"
      ],
      "metadata": {
        "id": "EbgJIzYUxmv5"
      },
      "execution_count": null,
      "outputs": []
    },
    {
      "cell_type": "markdown",
      "source": [
        "## Aplicamos tecnicas de limpieza de datos (NPL)"
      ],
      "metadata": {
        "id": "siLv0Oerp25E"
      }
    },
    {
      "cell_type": "code",
      "source": [
        "!python3 -m spacy download es"
      ],
      "metadata": {
        "colab": {
          "base_uri": "https://localhost:8080/"
        },
        "id": "mVCtR8mu1Hhd",
        "outputId": "db3be4b6-39e5-4a94-cf0c-5b6deabc1ec1"
      },
      "execution_count": null,
      "outputs": [
        {
          "output_type": "stream",
          "name": "stdout",
          "text": [
            "Collecting es_core_news_sm==2.2.5\n",
            "  Downloading https://github.com/explosion/spacy-models/releases/download/es_core_news_sm-2.2.5/es_core_news_sm-2.2.5.tar.gz (16.2 MB)\n",
            "\u001b[K     |████████████████████████████████| 16.2 MB 4.9 MB/s \n",
            "\u001b[?25hRequirement already satisfied: spacy>=2.2.2 in /usr/local/lib/python3.7/dist-packages (from es_core_news_sm==2.2.5) (2.2.4)\n",
            "Requirement already satisfied: catalogue<1.1.0,>=0.0.7 in /usr/local/lib/python3.7/dist-packages (from spacy>=2.2.2->es_core_news_sm==2.2.5) (1.0.0)\n",
            "Requirement already satisfied: preshed<3.1.0,>=3.0.2 in /usr/local/lib/python3.7/dist-packages (from spacy>=2.2.2->es_core_news_sm==2.2.5) (3.0.6)\n",
            "Requirement already satisfied: wasabi<1.1.0,>=0.4.0 in /usr/local/lib/python3.7/dist-packages (from spacy>=2.2.2->es_core_news_sm==2.2.5) (0.9.0)\n",
            "Requirement already satisfied: murmurhash<1.1.0,>=0.28.0 in /usr/local/lib/python3.7/dist-packages (from spacy>=2.2.2->es_core_news_sm==2.2.5) (1.0.6)\n",
            "Requirement already satisfied: thinc==7.4.0 in /usr/local/lib/python3.7/dist-packages (from spacy>=2.2.2->es_core_news_sm==2.2.5) (7.4.0)\n",
            "Requirement already satisfied: plac<1.2.0,>=0.9.6 in /usr/local/lib/python3.7/dist-packages (from spacy>=2.2.2->es_core_news_sm==2.2.5) (1.1.3)\n",
            "Requirement already satisfied: numpy>=1.15.0 in /usr/local/lib/python3.7/dist-packages (from spacy>=2.2.2->es_core_news_sm==2.2.5) (1.19.5)\n",
            "Requirement already satisfied: blis<0.5.0,>=0.4.0 in /usr/local/lib/python3.7/dist-packages (from spacy>=2.2.2->es_core_news_sm==2.2.5) (0.4.1)\n",
            "Requirement already satisfied: requests<3.0.0,>=2.13.0 in /usr/local/lib/python3.7/dist-packages (from spacy>=2.2.2->es_core_news_sm==2.2.5) (2.23.0)\n",
            "Requirement already satisfied: cymem<2.1.0,>=2.0.2 in /usr/local/lib/python3.7/dist-packages (from spacy>=2.2.2->es_core_news_sm==2.2.5) (2.0.6)\n",
            "Requirement already satisfied: setuptools in /usr/local/lib/python3.7/dist-packages (from spacy>=2.2.2->es_core_news_sm==2.2.5) (57.4.0)\n",
            "Requirement already satisfied: tqdm<5.0.0,>=4.38.0 in /usr/local/lib/python3.7/dist-packages (from spacy>=2.2.2->es_core_news_sm==2.2.5) (4.62.3)\n",
            "Requirement already satisfied: srsly<1.1.0,>=1.0.2 in /usr/local/lib/python3.7/dist-packages (from spacy>=2.2.2->es_core_news_sm==2.2.5) (1.0.5)\n",
            "Requirement already satisfied: importlib-metadata>=0.20 in /usr/local/lib/python3.7/dist-packages (from catalogue<1.1.0,>=0.0.7->spacy>=2.2.2->es_core_news_sm==2.2.5) (4.10.1)\n",
            "Requirement already satisfied: zipp>=0.5 in /usr/local/lib/python3.7/dist-packages (from importlib-metadata>=0.20->catalogue<1.1.0,>=0.0.7->spacy>=2.2.2->es_core_news_sm==2.2.5) (3.7.0)\n",
            "Requirement already satisfied: typing-extensions>=3.6.4 in /usr/local/lib/python3.7/dist-packages (from importlib-metadata>=0.20->catalogue<1.1.0,>=0.0.7->spacy>=2.2.2->es_core_news_sm==2.2.5) (3.10.0.2)\n",
            "Requirement already satisfied: chardet<4,>=3.0.2 in /usr/local/lib/python3.7/dist-packages (from requests<3.0.0,>=2.13.0->spacy>=2.2.2->es_core_news_sm==2.2.5) (3.0.4)\n",
            "Requirement already satisfied: idna<3,>=2.5 in /usr/local/lib/python3.7/dist-packages (from requests<3.0.0,>=2.13.0->spacy>=2.2.2->es_core_news_sm==2.2.5) (2.10)\n",
            "Requirement already satisfied: urllib3!=1.25.0,!=1.25.1,<1.26,>=1.21.1 in /usr/local/lib/python3.7/dist-packages (from requests<3.0.0,>=2.13.0->spacy>=2.2.2->es_core_news_sm==2.2.5) (1.24.3)\n",
            "Requirement already satisfied: certifi>=2017.4.17 in /usr/local/lib/python3.7/dist-packages (from requests<3.0.0,>=2.13.0->spacy>=2.2.2->es_core_news_sm==2.2.5) (2021.10.8)\n",
            "\u001b[38;5;2m✔ Download and installation successful\u001b[0m\n",
            "You can now load the model via spacy.load('es_core_news_sm')\n",
            "\u001b[38;5;2m✔ Linking successful\u001b[0m\n",
            "/usr/local/lib/python3.7/dist-packages/es_core_news_sm -->\n",
            "/usr/local/lib/python3.7/dist-packages/spacy/data/es\n",
            "You can now load the model via spacy.load('es')\n"
          ]
        }
      ]
    },
    {
      "cell_type": "code",
      "source": [
        "import spacy\n",
        "import nltk\n",
        "import re\n",
        "nltk.download('stopwords')\n",
        "nlp = spacy.load('es')\n",
        "\n",
        "\n",
        "def delete_tildes(s):\n",
        "    replacements = (\n",
        "        (\"á\", \"a\"),\n",
        "        (\"é\", \"e\"),\n",
        "        (\"í\", \"i\"),\n",
        "        (\"ó\", \"o\"),\n",
        "        (\"ú\", \"u\"),\n",
        "         (\"ñ\", \"n\"),\n",
        "    )\n",
        "    for a, b in replacements:\n",
        "        s = s.replace(a, b).replace(a.upper(), b.upper())\n",
        "    return s.strip()\n",
        "def remove_stopwords(text):\n",
        "    text = [word.strip() for word in text if word not in stopword_es]\n",
        "    return text\n",
        "\n",
        "sentences = df['all_data'].apply(lambda sen: delete_tildes(sen))\n",
        "sentences = sentences.apply(lambda L: re.sub('[^a-zA-Z]+', ' ', L).strip())\n",
        "stopword_es = nltk.corpus.stopwords.words('spanish')\n",
        "noticia_tokenizada =  sentences.apply(lambda msg: [token.text.strip() for token in nlp(msg)])\n",
        "noticia_tokenizada = noticia_tokenizada.apply(lambda x: remove_stopwords(x))"
      ],
      "metadata": {
        "colab": {
          "base_uri": "https://localhost:8080/"
        },
        "id": "O8b_DPl803M_",
        "outputId": "6e767e5c-5c02-43eb-ab19-e907fd2571e6"
      },
      "execution_count": null,
      "outputs": [
        {
          "output_type": "stream",
          "name": "stdout",
          "text": [
            "[nltk_data] Downloading package stopwords to /root/nltk_data...\n",
            "[nltk_data]   Package stopwords is already up-to-date!\n"
          ]
        }
      ]
    },
    {
      "cell_type": "code",
      "source": [
        "np.save('noticias_token', noticia_tokenizada)"
      ],
      "metadata": {
        "id": "NFZg2pQLllW8"
      },
      "execution_count": null,
      "outputs": []
    },
    {
      "cell_type": "markdown",
      "source": [
        "## Creamos la clase BagOfWords que nos permitira aplicar modelos a nuestro conjunto de datos de manera eficiente"
      ],
      "metadata": {
        "id": "lRQtHX-qqAvy"
      }
    },
    {
      "cell_type": "code",
      "source": [
        "from sklearn.feature_extraction import DictVectorizer\n",
        "from sklearn.feature_extraction.text import TfidfTransformer\n",
        "from sklearn.base import BaseEstimator\n",
        "import collections\n",
        "from collections import Counter\n",
        "from sklearn.base import TransformerMixin\n",
        "\n",
        "class BagOfWords(BaseEstimator, TransformerMixin):\n",
        "    def __init__(self, min_frequency=1, clip_counts=False, use_tfidf=False):\n",
        "        self.min_frequency = min_frequency \n",
        "        self.clip_counts = clip_counts \n",
        "        self.use_tfidf = use_tfidf\n",
        "        \n",
        "        \n",
        "    def fit(self, X, y=None):\n",
        "        \n",
        "        self.keep_columns = None\n",
        "        self.vectorizer = DictVectorizer(dtype=np.int)\n",
        "        \n",
        "        self.tfidf_transformer = None\n",
        "        if self.use_tfidf:\n",
        "            self.tfidf_transformer = TfidfTransformer()\n",
        "        \n",
        "        if self.clip_counts:\n",
        "            bags_of_words = X.apply(lambda tokens: Counter(set(tokens)))\n",
        "        else:\n",
        "            bags_of_words = X.apply(lambda tokens: Counter(tokens))\n",
        "        \n",
        "        X_vectors = self.vectorizer.fit_transform(bags_of_words)\n",
        "        \n",
        "        self.keep_columns = np.array(X_vectors.sum(axis=0) >= self.min_frequency).squeeze()\n",
        "\n",
        "        if self.use_tfidf:\n",
        "            self.tfidf_transformer.fit(X_vectors[:, self.keep_columns])\n",
        "        \n",
        "        return self\n",
        "    \n",
        "    def transform(self, X):\n",
        "        \n",
        "        if self.clip_counts:\n",
        "            bags_of_words = X.apply(lambda tokens: Counter(set(tokens)))\n",
        "        else:\n",
        "            bags_of_words = X.apply(lambda tokens: Counter(tokens))\n",
        "        \n",
        "        X_vectors = self.vectorizer.transform(bags_of_words)\n",
        "        X_vectors = X_vectors[:, self.keep_columns]\n",
        "        if self.use_tfidf:\n",
        "            X_vectors = self.tfidf_transformer.transform(X_vectors)\n",
        "        \n",
        "        return X_vectors\n",
        "\n",
        "\n",
        "print(\"Examples of bags of words without normalization (raw counts per document):\")\n",
        "print(BagOfWords(min_frequency=2, use_tfidf=False).fit_transform(noticia_tokenizada[:5]).toarray(), end='\\n\\n\\n')\n",
        "\n",
        "print(\"The same examples as above but with counts clipped to 1:\")\n",
        "print(BagOfWords(min_frequency=2, clip_counts=True).fit_transform(noticia_tokenizada[:5]).toarray(), end='\\n\\n\\n')\n",
        "\n",
        "print(\"The same examples as above but with TF-IDF normalization:\")\n",
        "print(np.around(BagOfWords(min_frequency=2, use_tfidf=True).fit_transform(noticia_tokenizada[:5]).toarray(), decimals=1))"
      ],
      "metadata": {
        "colab": {
          "base_uri": "https://localhost:8080/"
        },
        "id": "YrgZ5oqt4esf",
        "outputId": "66578cd5-a0b8-4453-c618-57098e5f590d"
      },
      "execution_count": null,
      "outputs": [
        {
          "output_type": "stream",
          "name": "stdout",
          "text": [
            "Examples of bags of words without normalization (raw counts per document):\n",
            "[[ 0  2  2 ...  0  0  0]\n",
            " [ 0  0  0 ...  0  0  4]\n",
            " [ 0  2  0 ...  0  0  0]\n",
            " [ 2  0  0 ...  2 14  0]\n",
            " [ 0  0  0 ...  0  0  0]]\n",
            "\n",
            "\n",
            "The same examples as above but with counts clipped to 1:\n",
            "[[1 1 1 1 0 1 0 1 0 1 0 0 1 0 1 0 1 1 1 1 1 0 1 1 0 1 0 1 1 1 0 0 1 1 1 1\n",
            "  1 0 1 1 1 1 0 0 1 0 0 0 1 0 0 1 1 0 0 0 1 0 1 1 0 1 1 0 0 0 0 0 0 0 0 0\n",
            "  0 0 1 1 1 1 1 1 0 1 1 1 0 0 1 0 1 1 1 0 0 1 1 1 0]\n",
            " [0 0 0 1 0 0 1 0 0 0 1 0 0 1 0 0 1 0 0 1 0 0 1 1 0 0 1 0 0 0 1 1 0 0 0 0\n",
            "  0 0 0 0 0 0 0 0 0 1 0 0 0 1 1 0 0 1 0 1 1 1 0 0 1 1 1 0 0 1 1 0 0 0 0 0\n",
            "  1 1 0 0 1 0 0 0 0 0 0 0 0 1 1 0 0 0 1 0 1 0 0 0 0]\n",
            " [1 1 1 0 0 0 0 0 1 0 0 1 0 0 0 0 1 0 0 0 0 0 0 0 0 0 0 0 0 0 0 0 0 0 0 0\n",
            "  1 0 0 0 0 0 0 1 1 0 0 1 1 0 1 0 1 0 0 0 0 0 1 0 0 0 1 1 0 0 0 0 1 0 0 0\n",
            "  0 0 1 0 0 0 0 0 1 0 1 1 0 1 0 1 0 0 0 1 0 0 0 0 0]\n",
            " [0 1 1 0 1 1 1 0 1 1 0 1 0 1 1 1 1 1 0 0 0 1 1 0 1 1 1 1 1 1 0 0 1 0 1 0\n",
            "  1 1 1 1 1 1 1 1 0 0 1 0 1 1 0 0 1 0 1 0 0 1 1 1 1 0 1 1 1 1 1 1 1 1 1 1\n",
            "  1 1 1 1 0 0 0 1 1 0 1 0 1 1 0 1 1 1 0 1 0 1 0 1 1]\n",
            " [0 1 0 0 1 0 0 1 1 0 1 0 1 0 1 1 1 0 1 0 1 1 1 0 1 0 0 0 0 0 1 1 0 1 0 1\n",
            "  1 1 0 0 0 0 1 0 0 1 1 1 1 1 0 1 0 1 1 1 0 0 0 0 0 0 1 1 1 0 1 1 0 1 1 1\n",
            "  0 1 1 0 0 1 1 0 0 1 1 0 1 0 0 0 0 0 0 0 1 0 1 0 1]]\n",
            "\n",
            "\n",
            "The same examples as above but with TF-IDF normalization:\n",
            "[[0.  0.1 0.1 ... 0.  0.  0. ]\n",
            " [0.  0.  0.  ... 0.  0.  0.2]\n",
            " [0.  0.1 0.  ... 0.  0.  0. ]\n",
            " [0.1 0.  0.  ... 0.1 0.5 0. ]\n",
            " [0.  0.  0.  ... 0.  0.  0. ]]\n"
          ]
        }
      ]
    },
    {
      "cell_type": "markdown",
      "source": [
        "## Cross validation de un LinearSVC"
      ],
      "metadata": {
        "id": "UmdHPkwNqgGl"
      }
    },
    {
      "cell_type": "code",
      "source": [
        "from sklearn.svm import LinearSVC\n",
        "from sklearn.linear_model import LogisticRegression\n",
        "evaluate_model(\n",
        "    LinearSVC(random_state=0, tol=1e-5),\n",
        "    BagOfWords(min_frequency=2).fit_transform(noticia_tokenizada),\n",
        "    df_y)"
      ],
      "metadata": {
        "colab": {
          "base_uri": "https://localhost:8080/",
          "height": 477
        },
        "id": "ttKO8DZsxm9K",
        "outputId": "d6ffe9a9-ce29-47f2-eed4-5899cb6b51bc"
      },
      "execution_count": null,
      "outputs": [
        {
          "output_type": "execute_result",
          "data": {
            "text/html": [
              "<style type=\"text/css\">\n",
              "#T_b91bf_row0_col0, #T_b91bf_row0_col1, #T_b91bf_row0_col2, #T_b91bf_row0_col3, #T_b91bf_row0_col4, #T_b91bf_row0_col5, #T_b91bf_row1_col0, #T_b91bf_row1_col1, #T_b91bf_row1_col2, #T_b91bf_row1_col3, #T_b91bf_row1_col4, #T_b91bf_row1_col5, #T_b91bf_row2_col0, #T_b91bf_row2_col1, #T_b91bf_row2_col2, #T_b91bf_row2_col3, #T_b91bf_row2_col4, #T_b91bf_row2_col5, #T_b91bf_row3_col0, #T_b91bf_row3_col1, #T_b91bf_row3_col2, #T_b91bf_row3_col3, #T_b91bf_row3_col4, #T_b91bf_row3_col5, #T_b91bf_row4_col0, #T_b91bf_row4_col1, #T_b91bf_row4_col2, #T_b91bf_row4_col3, #T_b91bf_row4_col4, #T_b91bf_row4_col5, #T_b91bf_row5_col0, #T_b91bf_row5_col1, #T_b91bf_row5_col2, #T_b91bf_row5_col3, #T_b91bf_row5_col4, #T_b91bf_row5_col5, #T_b91bf_row6_col0, #T_b91bf_row6_col1, #T_b91bf_row6_col2, #T_b91bf_row6_col3, #T_b91bf_row6_col4, #T_b91bf_row6_col5, #T_b91bf_row7_col0, #T_b91bf_row7_col1, #T_b91bf_row7_col2, #T_b91bf_row7_col3, #T_b91bf_row7_col4, #T_b91bf_row7_col5, #T_b91bf_row8_col0, #T_b91bf_row8_col1, #T_b91bf_row8_col2, #T_b91bf_row8_col3, #T_b91bf_row8_col4, #T_b91bf_row8_col5, #T_b91bf_row9_col0, #T_b91bf_row9_col1, #T_b91bf_row9_col2, #T_b91bf_row9_col3, #T_b91bf_row9_col4, #T_b91bf_row9_col5, #T_b91bf_row11_col0, #T_b91bf_row11_col1, #T_b91bf_row11_col2, #T_b91bf_row11_col3, #T_b91bf_row11_col4, #T_b91bf_row11_col5 {\n",
              "  background-color: white;\n",
              "}\n",
              "#T_b91bf_row10_col0, #T_b91bf_row10_col1, #T_b91bf_row10_col2, #T_b91bf_row10_col3, #T_b91bf_row10_col4, #T_b91bf_row10_col5 {\n",
              "  background-color: yellow;\n",
              "}\n",
              "</style>\n",
              "<table id=\"T_b91bf_\" class=\"dataframe\">\n",
              "  <thead>\n",
              "    <tr>\n",
              "      <th class=\"blank level0\" >&nbsp;</th>\n",
              "      <th class=\"col_heading level0 col0\" colspan=\"6\">test</th>\n",
              "    </tr>\n",
              "    <tr>\n",
              "      <th class=\"blank level1\" >&nbsp;</th>\n",
              "      <th class=\"col_heading level1 col0\" >recall_macro</th>\n",
              "      <th class=\"col_heading level1 col1\" >accuracy</th>\n",
              "      <th class=\"col_heading level1 col2\" >recall_neg</th>\n",
              "      <th class=\"col_heading level1 col3\" >recall_pos</th>\n",
              "      <th class=\"col_heading level1 col4\" >precision_neg</th>\n",
              "      <th class=\"col_heading level1 col5\" >precision_pos</th>\n",
              "    </tr>\n",
              "  </thead>\n",
              "  <tbody>\n",
              "    <tr>\n",
              "      <th id=\"T_b91bf_level0_row0\" class=\"row_heading level0 row0\" >0</th>\n",
              "      <td id=\"T_b91bf_row0_col0\" class=\"data row0 col0\" >0.989360</td>\n",
              "      <td id=\"T_b91bf_row0_col1\" class=\"data row0 col1\" >0.989362</td>\n",
              "      <td id=\"T_b91bf_row0_col2\" class=\"data row0 col2\" >0.989474</td>\n",
              "      <td id=\"T_b91bf_row0_col3\" class=\"data row0 col3\" >0.989247</td>\n",
              "      <td id=\"T_b91bf_row0_col4\" class=\"data row0 col4\" >0.989474</td>\n",
              "      <td id=\"T_b91bf_row0_col5\" class=\"data row0 col5\" >0.989247</td>\n",
              "    </tr>\n",
              "    <tr>\n",
              "      <th id=\"T_b91bf_level0_row1\" class=\"row_heading level0 row1\" >1</th>\n",
              "      <td id=\"T_b91bf_row1_col0\" class=\"data row1 col0\" >0.968195</td>\n",
              "      <td id=\"T_b91bf_row1_col1\" class=\"data row1 col1\" >0.968085</td>\n",
              "      <td id=\"T_b91bf_row1_col2\" class=\"data row1 col2\" >0.957895</td>\n",
              "      <td id=\"T_b91bf_row1_col3\" class=\"data row1 col3\" >0.978495</td>\n",
              "      <td id=\"T_b91bf_row1_col4\" class=\"data row1 col4\" >0.978495</td>\n",
              "      <td id=\"T_b91bf_row1_col5\" class=\"data row1 col5\" >0.957895</td>\n",
              "    </tr>\n",
              "    <tr>\n",
              "      <th id=\"T_b91bf_level0_row2\" class=\"row_heading level0 row2\" >2</th>\n",
              "      <td id=\"T_b91bf_row2_col0\" class=\"data row2 col0\" >0.962480</td>\n",
              "      <td id=\"T_b91bf_row2_col1\" class=\"data row2 col1\" >0.962567</td>\n",
              "      <td id=\"T_b91bf_row2_col2\" class=\"data row2 col2\" >0.978723</td>\n",
              "      <td id=\"T_b91bf_row2_col3\" class=\"data row2 col3\" >0.946237</td>\n",
              "      <td id=\"T_b91bf_row2_col4\" class=\"data row2 col4\" >0.948454</td>\n",
              "      <td id=\"T_b91bf_row2_col5\" class=\"data row2 col5\" >0.977778</td>\n",
              "    </tr>\n",
              "    <tr>\n",
              "      <th id=\"T_b91bf_level0_row3\" class=\"row_heading level0 row3\" >3</th>\n",
              "      <td id=\"T_b91bf_row3_col0\" class=\"data row3 col0\" >0.994624</td>\n",
              "      <td id=\"T_b91bf_row3_col1\" class=\"data row3 col1\" >0.994652</td>\n",
              "      <td id=\"T_b91bf_row3_col2\" class=\"data row3 col2\" >1.000000</td>\n",
              "      <td id=\"T_b91bf_row3_col3\" class=\"data row3 col3\" >0.989247</td>\n",
              "      <td id=\"T_b91bf_row3_col4\" class=\"data row3 col4\" >0.989474</td>\n",
              "      <td id=\"T_b91bf_row3_col5\" class=\"data row3 col5\" >1.000000</td>\n",
              "    </tr>\n",
              "    <tr>\n",
              "      <th id=\"T_b91bf_level0_row4\" class=\"row_heading level0 row4\" >4</th>\n",
              "      <td id=\"T_b91bf_row4_col0\" class=\"data row4 col0\" >0.978552</td>\n",
              "      <td id=\"T_b91bf_row4_col1\" class=\"data row4 col1\" >0.978610</td>\n",
              "      <td id=\"T_b91bf_row4_col2\" class=\"data row4 col2\" >0.989362</td>\n",
              "      <td id=\"T_b91bf_row4_col3\" class=\"data row4 col3\" >0.967742</td>\n",
              "      <td id=\"T_b91bf_row4_col4\" class=\"data row4 col4\" >0.968750</td>\n",
              "      <td id=\"T_b91bf_row4_col5\" class=\"data row4 col5\" >0.989011</td>\n",
              "    </tr>\n",
              "    <tr>\n",
              "      <th id=\"T_b91bf_level0_row5\" class=\"row_heading level0 row5\" >5</th>\n",
              "      <td id=\"T_b91bf_row5_col0\" class=\"data row5 col0\" >0.962594</td>\n",
              "      <td id=\"T_b91bf_row5_col1\" class=\"data row5 col1\" >0.962567</td>\n",
              "      <td id=\"T_b91bf_row5_col2\" class=\"data row5 col2\" >0.957447</td>\n",
              "      <td id=\"T_b91bf_row5_col3\" class=\"data row5 col3\" >0.967742</td>\n",
              "      <td id=\"T_b91bf_row5_col4\" class=\"data row5 col4\" >0.967742</td>\n",
              "      <td id=\"T_b91bf_row5_col5\" class=\"data row5 col5\" >0.957447</td>\n",
              "    </tr>\n",
              "    <tr>\n",
              "      <th id=\"T_b91bf_level0_row6\" class=\"row_heading level0 row6\" >6</th>\n",
              "      <td id=\"T_b91bf_row6_col0\" class=\"data row6 col0\" >0.973404</td>\n",
              "      <td id=\"T_b91bf_row6_col1\" class=\"data row6 col1\" >0.973262</td>\n",
              "      <td id=\"T_b91bf_row6_col2\" class=\"data row6 col2\" >0.946809</td>\n",
              "      <td id=\"T_b91bf_row6_col3\" class=\"data row6 col3\" >1.000000</td>\n",
              "      <td id=\"T_b91bf_row6_col4\" class=\"data row6 col4\" >1.000000</td>\n",
              "      <td id=\"T_b91bf_row6_col5\" class=\"data row6 col5\" >0.948980</td>\n",
              "    </tr>\n",
              "    <tr>\n",
              "      <th id=\"T_b91bf_level0_row7\" class=\"row_heading level0 row7\" >7</th>\n",
              "      <td id=\"T_b91bf_row7_col0\" class=\"data row7 col0\" >0.925189</td>\n",
              "      <td id=\"T_b91bf_row7_col1\" class=\"data row7 col1\" >0.925134</td>\n",
              "      <td id=\"T_b91bf_row7_col2\" class=\"data row7 col2\" >0.914894</td>\n",
              "      <td id=\"T_b91bf_row7_col3\" class=\"data row7 col3\" >0.935484</td>\n",
              "      <td id=\"T_b91bf_row7_col4\" class=\"data row7 col4\" >0.934783</td>\n",
              "      <td id=\"T_b91bf_row7_col5\" class=\"data row7 col5\" >0.915789</td>\n",
              "    </tr>\n",
              "    <tr>\n",
              "      <th id=\"T_b91bf_level0_row8\" class=\"row_heading level0 row8\" >8</th>\n",
              "      <td id=\"T_b91bf_row8_col0\" class=\"data row8 col0\" >0.941203</td>\n",
              "      <td id=\"T_b91bf_row8_col1\" class=\"data row8 col1\" >0.941176</td>\n",
              "      <td id=\"T_b91bf_row8_col2\" class=\"data row8 col2\" >0.936170</td>\n",
              "      <td id=\"T_b91bf_row8_col3\" class=\"data row8 col3\" >0.946237</td>\n",
              "      <td id=\"T_b91bf_row8_col4\" class=\"data row8 col4\" >0.946237</td>\n",
              "      <td id=\"T_b91bf_row8_col5\" class=\"data row8 col5\" >0.936170</td>\n",
              "    </tr>\n",
              "    <tr>\n",
              "      <th id=\"T_b91bf_level0_row9\" class=\"row_heading level0 row9\" >9</th>\n",
              "      <td id=\"T_b91bf_row9_col0\" class=\"data row9 col0\" >0.951259</td>\n",
              "      <td id=\"T_b91bf_row9_col1\" class=\"data row9 col1\" >0.951872</td>\n",
              "      <td id=\"T_b91bf_row9_col2\" class=\"data row9 col2\" >0.989474</td>\n",
              "      <td id=\"T_b91bf_row9_col3\" class=\"data row9 col3\" >0.913043</td>\n",
              "      <td id=\"T_b91bf_row9_col4\" class=\"data row9 col4\" >0.921569</td>\n",
              "      <td id=\"T_b91bf_row9_col5\" class=\"data row9 col5\" >0.988235</td>\n",
              "    </tr>\n",
              "    <tr>\n",
              "      <th id=\"T_b91bf_level0_row10\" class=\"row_heading level0 row10\" >mean</th>\n",
              "      <td id=\"T_b91bf_row10_col0\" class=\"data row10 col0\" >0.964686</td>\n",
              "      <td id=\"T_b91bf_row10_col1\" class=\"data row10 col1\" >0.964729</td>\n",
              "      <td id=\"T_b91bf_row10_col2\" class=\"data row10 col2\" >0.966025</td>\n",
              "      <td id=\"T_b91bf_row10_col3\" class=\"data row10 col3\" >0.963347</td>\n",
              "      <td id=\"T_b91bf_row10_col4\" class=\"data row10 col4\" >0.964498</td>\n",
              "      <td id=\"T_b91bf_row10_col5\" class=\"data row10 col5\" >0.966055</td>\n",
              "    </tr>\n",
              "    <tr>\n",
              "      <th id=\"T_b91bf_level0_row11\" class=\"row_heading level0 row11\" >std</th>\n",
              "      <td id=\"T_b91bf_row11_col0\" class=\"data row11 col0\" >0.021309</td>\n",
              "      <td id=\"T_b91bf_row11_col1\" class=\"data row11 col1\" >0.021281</td>\n",
              "      <td id=\"T_b91bf_row11_col2\" class=\"data row11 col2\" >0.027838</td>\n",
              "      <td id=\"T_b91bf_row11_col3\" class=\"data row11 col3\" >0.027579</td>\n",
              "      <td id=\"T_b91bf_row11_col4\" class=\"data row11 col4\" >0.025926</td>\n",
              "      <td id=\"T_b91bf_row11_col5\" class=\"data row11 col5\" >0.027281</td>\n",
              "    </tr>\n",
              "  </tbody>\n",
              "</table>\n"
            ],
            "text/plain": [
              "<pandas.io.formats.style.Styler at 0x7f96d7813750>"
            ]
          },
          "metadata": {},
          "execution_count": 15
        }
      ]
    },
    {
      "cell_type": "markdown",
      "source": [
        "## Cross validation de una regresión logistica"
      ],
      "metadata": {
        "id": "IO1Bdgiu_y5H"
      }
    },
    {
      "cell_type": "code",
      "source": [
        "from sklearn.linear_model import LogisticRegression\n",
        "\n",
        "log_reg = LogisticRegression(multi_class='multinomial', solver='lbfgs', class_weight='balanced')\n",
        "\n",
        "evaluate_model(\n",
        "    log_reg,\n",
        "    BagOfWords(min_frequency=2).fit_transform(noticia_tokenizada),\n",
        "    df_y)"
      ],
      "metadata": {
        "colab": {
          "base_uri": "https://localhost:8080/",
          "height": 477
        },
        "id": "-eX8Hhe4xm_H",
        "outputId": "5815e324-6977-4b75-c7fa-755a846b4623"
      },
      "execution_count": null,
      "outputs": [
        {
          "output_type": "execute_result",
          "data": {
            "text/html": [
              "<style type=\"text/css\">\n",
              "#T_5174b_row0_col0, #T_5174b_row0_col1, #T_5174b_row0_col2, #T_5174b_row0_col3, #T_5174b_row0_col4, #T_5174b_row0_col5, #T_5174b_row1_col0, #T_5174b_row1_col1, #T_5174b_row1_col2, #T_5174b_row1_col3, #T_5174b_row1_col4, #T_5174b_row1_col5, #T_5174b_row2_col0, #T_5174b_row2_col1, #T_5174b_row2_col2, #T_5174b_row2_col3, #T_5174b_row2_col4, #T_5174b_row2_col5, #T_5174b_row3_col0, #T_5174b_row3_col1, #T_5174b_row3_col2, #T_5174b_row3_col3, #T_5174b_row3_col4, #T_5174b_row3_col5, #T_5174b_row4_col0, #T_5174b_row4_col1, #T_5174b_row4_col2, #T_5174b_row4_col3, #T_5174b_row4_col4, #T_5174b_row4_col5, #T_5174b_row5_col0, #T_5174b_row5_col1, #T_5174b_row5_col2, #T_5174b_row5_col3, #T_5174b_row5_col4, #T_5174b_row5_col5, #T_5174b_row6_col0, #T_5174b_row6_col1, #T_5174b_row6_col2, #T_5174b_row6_col3, #T_5174b_row6_col4, #T_5174b_row6_col5, #T_5174b_row7_col0, #T_5174b_row7_col1, #T_5174b_row7_col2, #T_5174b_row7_col3, #T_5174b_row7_col4, #T_5174b_row7_col5, #T_5174b_row8_col0, #T_5174b_row8_col1, #T_5174b_row8_col2, #T_5174b_row8_col3, #T_5174b_row8_col4, #T_5174b_row8_col5, #T_5174b_row9_col0, #T_5174b_row9_col1, #T_5174b_row9_col2, #T_5174b_row9_col3, #T_5174b_row9_col4, #T_5174b_row9_col5, #T_5174b_row11_col0, #T_5174b_row11_col1, #T_5174b_row11_col2, #T_5174b_row11_col3, #T_5174b_row11_col4, #T_5174b_row11_col5 {\n",
              "  background-color: white;\n",
              "}\n",
              "#T_5174b_row10_col0, #T_5174b_row10_col1, #T_5174b_row10_col2, #T_5174b_row10_col3, #T_5174b_row10_col4, #T_5174b_row10_col5 {\n",
              "  background-color: yellow;\n",
              "}\n",
              "</style>\n",
              "<table id=\"T_5174b_\" class=\"dataframe\">\n",
              "  <thead>\n",
              "    <tr>\n",
              "      <th class=\"blank level0\" >&nbsp;</th>\n",
              "      <th class=\"col_heading level0 col0\" colspan=\"6\">test</th>\n",
              "    </tr>\n",
              "    <tr>\n",
              "      <th class=\"blank level1\" >&nbsp;</th>\n",
              "      <th class=\"col_heading level1 col0\" >recall_macro</th>\n",
              "      <th class=\"col_heading level1 col1\" >accuracy</th>\n",
              "      <th class=\"col_heading level1 col2\" >recall_neg</th>\n",
              "      <th class=\"col_heading level1 col3\" >recall_pos</th>\n",
              "      <th class=\"col_heading level1 col4\" >precision_neg</th>\n",
              "      <th class=\"col_heading level1 col5\" >precision_pos</th>\n",
              "    </tr>\n",
              "  </thead>\n",
              "  <tbody>\n",
              "    <tr>\n",
              "      <th id=\"T_5174b_level0_row0\" class=\"row_heading level0 row0\" >0</th>\n",
              "      <td id=\"T_5174b_row0_col0\" class=\"data row0 col0\" >0.983984</td>\n",
              "      <td id=\"T_5174b_row0_col1\" class=\"data row0 col1\" >0.984043</td>\n",
              "      <td id=\"T_5174b_row0_col2\" class=\"data row0 col2\" >0.989474</td>\n",
              "      <td id=\"T_5174b_row0_col3\" class=\"data row0 col3\" >0.978495</td>\n",
              "      <td id=\"T_5174b_row0_col4\" class=\"data row0 col4\" >0.979167</td>\n",
              "      <td id=\"T_5174b_row0_col5\" class=\"data row0 col5\" >0.989130</td>\n",
              "    </tr>\n",
              "    <tr>\n",
              "      <th id=\"T_5174b_level0_row1\" class=\"row_heading level0 row1\" >1</th>\n",
              "      <td id=\"T_5174b_row1_col0\" class=\"data row1 col0\" >0.973458</td>\n",
              "      <td id=\"T_5174b_row1_col1\" class=\"data row1 col1\" >0.973404</td>\n",
              "      <td id=\"T_5174b_row1_col2\" class=\"data row1 col2\" >0.968421</td>\n",
              "      <td id=\"T_5174b_row1_col3\" class=\"data row1 col3\" >0.978495</td>\n",
              "      <td id=\"T_5174b_row1_col4\" class=\"data row1 col4\" >0.978723</td>\n",
              "      <td id=\"T_5174b_row1_col5\" class=\"data row1 col5\" >0.968085</td>\n",
              "    </tr>\n",
              "    <tr>\n",
              "      <th id=\"T_5174b_level0_row2\" class=\"row_heading level0 row2\" >2</th>\n",
              "      <td id=\"T_5174b_row2_col0\" class=\"data row2 col0\" >0.978609</td>\n",
              "      <td id=\"T_5174b_row2_col1\" class=\"data row2 col1\" >0.978610</td>\n",
              "      <td id=\"T_5174b_row2_col2\" class=\"data row2 col2\" >0.978723</td>\n",
              "      <td id=\"T_5174b_row2_col3\" class=\"data row2 col3\" >0.978495</td>\n",
              "      <td id=\"T_5174b_row2_col4\" class=\"data row2 col4\" >0.978723</td>\n",
              "      <td id=\"T_5174b_row2_col5\" class=\"data row2 col5\" >0.978495</td>\n",
              "    </tr>\n",
              "    <tr>\n",
              "      <th id=\"T_5174b_level0_row3\" class=\"row_heading level0 row3\" >3</th>\n",
              "      <td id=\"T_5174b_row3_col0\" class=\"data row3 col0\" >0.989247</td>\n",
              "      <td id=\"T_5174b_row3_col1\" class=\"data row3 col1\" >0.989305</td>\n",
              "      <td id=\"T_5174b_row3_col2\" class=\"data row3 col2\" >1.000000</td>\n",
              "      <td id=\"T_5174b_row3_col3\" class=\"data row3 col3\" >0.978495</td>\n",
              "      <td id=\"T_5174b_row3_col4\" class=\"data row3 col4\" >0.979167</td>\n",
              "      <td id=\"T_5174b_row3_col5\" class=\"data row3 col5\" >1.000000</td>\n",
              "    </tr>\n",
              "    <tr>\n",
              "      <th id=\"T_5174b_level0_row4\" class=\"row_heading level0 row4\" >4</th>\n",
              "      <td id=\"T_5174b_row4_col0\" class=\"data row4 col0\" >0.983871</td>\n",
              "      <td id=\"T_5174b_row4_col1\" class=\"data row4 col1\" >0.983957</td>\n",
              "      <td id=\"T_5174b_row4_col2\" class=\"data row4 col2\" >1.000000</td>\n",
              "      <td id=\"T_5174b_row4_col3\" class=\"data row4 col3\" >0.967742</td>\n",
              "      <td id=\"T_5174b_row4_col4\" class=\"data row4 col4\" >0.969072</td>\n",
              "      <td id=\"T_5174b_row4_col5\" class=\"data row4 col5\" >1.000000</td>\n",
              "    </tr>\n",
              "    <tr>\n",
              "      <th id=\"T_5174b_level0_row5\" class=\"row_heading level0 row5\" >5</th>\n",
              "      <td id=\"T_5174b_row5_col0\" class=\"data row5 col0\" >0.962594</td>\n",
              "      <td id=\"T_5174b_row5_col1\" class=\"data row5 col1\" >0.962567</td>\n",
              "      <td id=\"T_5174b_row5_col2\" class=\"data row5 col2\" >0.957447</td>\n",
              "      <td id=\"T_5174b_row5_col3\" class=\"data row5 col3\" >0.967742</td>\n",
              "      <td id=\"T_5174b_row5_col4\" class=\"data row5 col4\" >0.967742</td>\n",
              "      <td id=\"T_5174b_row5_col5\" class=\"data row5 col5\" >0.957447</td>\n",
              "    </tr>\n",
              "    <tr>\n",
              "      <th id=\"T_5174b_level0_row6\" class=\"row_heading level0 row6\" >6</th>\n",
              "      <td id=\"T_5174b_row6_col0\" class=\"data row6 col0\" >0.968085</td>\n",
              "      <td id=\"T_5174b_row6_col1\" class=\"data row6 col1\" >0.967914</td>\n",
              "      <td id=\"T_5174b_row6_col2\" class=\"data row6 col2\" >0.936170</td>\n",
              "      <td id=\"T_5174b_row6_col3\" class=\"data row6 col3\" >1.000000</td>\n",
              "      <td id=\"T_5174b_row6_col4\" class=\"data row6 col4\" >1.000000</td>\n",
              "      <td id=\"T_5174b_row6_col5\" class=\"data row6 col5\" >0.939394</td>\n",
              "    </tr>\n",
              "    <tr>\n",
              "      <th id=\"T_5174b_level0_row7\" class=\"row_heading level0 row7\" >7</th>\n",
              "      <td id=\"T_5174b_row7_col0\" class=\"data row7 col0\" >0.946465</td>\n",
              "      <td id=\"T_5174b_row7_col1\" class=\"data row7 col1\" >0.946524</td>\n",
              "      <td id=\"T_5174b_row7_col2\" class=\"data row7 col2\" >0.957447</td>\n",
              "      <td id=\"T_5174b_row7_col3\" class=\"data row7 col3\" >0.935484</td>\n",
              "      <td id=\"T_5174b_row7_col4\" class=\"data row7 col4\" >0.937500</td>\n",
              "      <td id=\"T_5174b_row7_col5\" class=\"data row7 col5\" >0.956044</td>\n",
              "    </tr>\n",
              "    <tr>\n",
              "      <th id=\"T_5174b_level0_row8\" class=\"row_heading level0 row8\" >8</th>\n",
              "      <td id=\"T_5174b_row8_col0\" class=\"data row8 col0\" >0.935827</td>\n",
              "      <td id=\"T_5174b_row8_col1\" class=\"data row8 col1\" >0.935829</td>\n",
              "      <td id=\"T_5174b_row8_col2\" class=\"data row8 col2\" >0.936170</td>\n",
              "      <td id=\"T_5174b_row8_col3\" class=\"data row8 col3\" >0.935484</td>\n",
              "      <td id=\"T_5174b_row8_col4\" class=\"data row8 col4\" >0.936170</td>\n",
              "      <td id=\"T_5174b_row8_col5\" class=\"data row8 col5\" >0.935484</td>\n",
              "    </tr>\n",
              "    <tr>\n",
              "      <th id=\"T_5174b_level0_row9\" class=\"row_heading level0 row9\" >9</th>\n",
              "      <td id=\"T_5174b_row9_col0\" class=\"data row9 col0\" >0.951259</td>\n",
              "      <td id=\"T_5174b_row9_col1\" class=\"data row9 col1\" >0.951872</td>\n",
              "      <td id=\"T_5174b_row9_col2\" class=\"data row9 col2\" >0.989474</td>\n",
              "      <td id=\"T_5174b_row9_col3\" class=\"data row9 col3\" >0.913043</td>\n",
              "      <td id=\"T_5174b_row9_col4\" class=\"data row9 col4\" >0.921569</td>\n",
              "      <td id=\"T_5174b_row9_col5\" class=\"data row9 col5\" >0.988235</td>\n",
              "    </tr>\n",
              "    <tr>\n",
              "      <th id=\"T_5174b_level0_row10\" class=\"row_heading level0 row10\" >mean</th>\n",
              "      <td id=\"T_5174b_row10_col0\" class=\"data row10 col0\" >0.967340</td>\n",
              "      <td id=\"T_5174b_row10_col1\" class=\"data row10 col1\" >0.967402</td>\n",
              "      <td id=\"T_5174b_row10_col2\" class=\"data row10 col2\" >0.971333</td>\n",
              "      <td id=\"T_5174b_row10_col3\" class=\"data row10 col3\" >0.963347</td>\n",
              "      <td id=\"T_5174b_row10_col4\" class=\"data row10 col4\" >0.964783</td>\n",
              "      <td id=\"T_5174b_row10_col5\" class=\"data row10 col5\" >0.971231</td>\n",
              "    </tr>\n",
              "    <tr>\n",
              "      <th id=\"T_5174b_level0_row11\" class=\"row_heading level0 row11\" >std</th>\n",
              "      <td id=\"T_5174b_row11_col0\" class=\"data row11 col0\" >0.017966</td>\n",
              "      <td id=\"T_5174b_row11_col1\" class=\"data row11 col1\" >0.017919</td>\n",
              "      <td id=\"T_5174b_row11_col2\" class=\"data row11 col2\" >0.024091</td>\n",
              "      <td id=\"T_5174b_row11_col3\" class=\"data row11 col3\" >0.026631</td>\n",
              "      <td id=\"T_5174b_row11_col4\" class=\"data row11 col4\" >0.024722</td>\n",
              "      <td id=\"T_5174b_row11_col5\" class=\"data row11 col5\" >0.023663</td>\n",
              "    </tr>\n",
              "  </tbody>\n",
              "</table>\n"
            ],
            "text/plain": [
              "<pandas.io.formats.style.Styler at 0x7f96c9c9b090>"
            ]
          },
          "metadata": {},
          "execution_count": 17
        }
      ]
    },
    {
      "cell_type": "markdown",
      "source": [
        "## Cross validation de un Random Forest"
      ],
      "metadata": {
        "id": "XTBa7kphqqDi"
      }
    },
    {
      "cell_type": "code",
      "source": [
        "from sklearn.ensemble import RandomForestClassifier\n",
        "\n",
        "evaluate_model(\n",
        "    RandomForestClassifier(max_depth=10, random_state=0),\n",
        "    BagOfWords(min_frequency=2).fit_transform(noticia_tokenizada),\n",
        "    df_y)"
      ],
      "metadata": {
        "colab": {
          "base_uri": "https://localhost:8080/",
          "height": 477
        },
        "id": "CSY6WYtWxnBG",
        "outputId": "96dde16e-9fa0-4818-da93-aafa9d768dd3"
      },
      "execution_count": null,
      "outputs": [
        {
          "output_type": "execute_result",
          "data": {
            "text/html": [
              "<style type=\"text/css\">\n",
              "#T_cc08c_row0_col0, #T_cc08c_row0_col1, #T_cc08c_row0_col2, #T_cc08c_row0_col3, #T_cc08c_row0_col4, #T_cc08c_row0_col5, #T_cc08c_row1_col0, #T_cc08c_row1_col1, #T_cc08c_row1_col2, #T_cc08c_row1_col3, #T_cc08c_row1_col4, #T_cc08c_row1_col5, #T_cc08c_row2_col0, #T_cc08c_row2_col1, #T_cc08c_row2_col2, #T_cc08c_row2_col3, #T_cc08c_row2_col4, #T_cc08c_row2_col5, #T_cc08c_row3_col0, #T_cc08c_row3_col1, #T_cc08c_row3_col2, #T_cc08c_row3_col3, #T_cc08c_row3_col4, #T_cc08c_row3_col5, #T_cc08c_row4_col0, #T_cc08c_row4_col1, #T_cc08c_row4_col2, #T_cc08c_row4_col3, #T_cc08c_row4_col4, #T_cc08c_row4_col5, #T_cc08c_row5_col0, #T_cc08c_row5_col1, #T_cc08c_row5_col2, #T_cc08c_row5_col3, #T_cc08c_row5_col4, #T_cc08c_row5_col5, #T_cc08c_row6_col0, #T_cc08c_row6_col1, #T_cc08c_row6_col2, #T_cc08c_row6_col3, #T_cc08c_row6_col4, #T_cc08c_row6_col5, #T_cc08c_row7_col0, #T_cc08c_row7_col1, #T_cc08c_row7_col2, #T_cc08c_row7_col3, #T_cc08c_row7_col4, #T_cc08c_row7_col5, #T_cc08c_row8_col0, #T_cc08c_row8_col1, #T_cc08c_row8_col2, #T_cc08c_row8_col3, #T_cc08c_row8_col4, #T_cc08c_row8_col5, #T_cc08c_row9_col0, #T_cc08c_row9_col1, #T_cc08c_row9_col2, #T_cc08c_row9_col3, #T_cc08c_row9_col4, #T_cc08c_row9_col5, #T_cc08c_row11_col0, #T_cc08c_row11_col1, #T_cc08c_row11_col2, #T_cc08c_row11_col3, #T_cc08c_row11_col4, #T_cc08c_row11_col5 {\n",
              "  background-color: white;\n",
              "}\n",
              "#T_cc08c_row10_col0, #T_cc08c_row10_col1, #T_cc08c_row10_col2, #T_cc08c_row10_col3, #T_cc08c_row10_col4, #T_cc08c_row10_col5 {\n",
              "  background-color: yellow;\n",
              "}\n",
              "</style>\n",
              "<table id=\"T_cc08c_\" class=\"dataframe\">\n",
              "  <thead>\n",
              "    <tr>\n",
              "      <th class=\"blank level0\" >&nbsp;</th>\n",
              "      <th class=\"col_heading level0 col0\" colspan=\"6\">test</th>\n",
              "    </tr>\n",
              "    <tr>\n",
              "      <th class=\"blank level1\" >&nbsp;</th>\n",
              "      <th class=\"col_heading level1 col0\" >recall_macro</th>\n",
              "      <th class=\"col_heading level1 col1\" >accuracy</th>\n",
              "      <th class=\"col_heading level1 col2\" >recall_neg</th>\n",
              "      <th class=\"col_heading level1 col3\" >recall_pos</th>\n",
              "      <th class=\"col_heading level1 col4\" >precision_neg</th>\n",
              "      <th class=\"col_heading level1 col5\" >precision_pos</th>\n",
              "    </tr>\n",
              "  </thead>\n",
              "  <tbody>\n",
              "    <tr>\n",
              "      <th id=\"T_cc08c_level0_row0\" class=\"row_heading level0 row0\" >0</th>\n",
              "      <td id=\"T_cc08c_row0_col0\" class=\"data row0 col0\" >0.962705</td>\n",
              "      <td id=\"T_cc08c_row0_col1\" class=\"data row0 col1\" >0.962766</td>\n",
              "      <td id=\"T_cc08c_row0_col2\" class=\"data row0 col2\" >0.968421</td>\n",
              "      <td id=\"T_cc08c_row0_col3\" class=\"data row0 col3\" >0.956989</td>\n",
              "      <td id=\"T_cc08c_row0_col4\" class=\"data row0 col4\" >0.958333</td>\n",
              "      <td id=\"T_cc08c_row0_col5\" class=\"data row0 col5\" >0.967391</td>\n",
              "    </tr>\n",
              "    <tr>\n",
              "      <th id=\"T_cc08c_level0_row1\" class=\"row_heading level0 row1\" >1</th>\n",
              "      <td id=\"T_cc08c_row1_col0\" class=\"data row1 col0\" >0.984211</td>\n",
              "      <td id=\"T_cc08c_row1_col1\" class=\"data row1 col1\" >0.984043</td>\n",
              "      <td id=\"T_cc08c_row1_col2\" class=\"data row1 col2\" >0.968421</td>\n",
              "      <td id=\"T_cc08c_row1_col3\" class=\"data row1 col3\" >1.000000</td>\n",
              "      <td id=\"T_cc08c_row1_col4\" class=\"data row1 col4\" >1.000000</td>\n",
              "      <td id=\"T_cc08c_row1_col5\" class=\"data row1 col5\" >0.968750</td>\n",
              "    </tr>\n",
              "    <tr>\n",
              "      <th id=\"T_cc08c_level0_row2\" class=\"row_heading level0 row2\" >2</th>\n",
              "      <td id=\"T_cc08c_row2_col0\" class=\"data row2 col0\" >0.973118</td>\n",
              "      <td id=\"T_cc08c_row2_col1\" class=\"data row2 col1\" >0.973262</td>\n",
              "      <td id=\"T_cc08c_row2_col2\" class=\"data row2 col2\" >1.000000</td>\n",
              "      <td id=\"T_cc08c_row2_col3\" class=\"data row2 col3\" >0.946237</td>\n",
              "      <td id=\"T_cc08c_row2_col4\" class=\"data row2 col4\" >0.949495</td>\n",
              "      <td id=\"T_cc08c_row2_col5\" class=\"data row2 col5\" >1.000000</td>\n",
              "    </tr>\n",
              "    <tr>\n",
              "      <th id=\"T_cc08c_level0_row3\" class=\"row_heading level0 row3\" >3</th>\n",
              "      <td id=\"T_cc08c_row3_col0\" class=\"data row3 col0\" >0.983871</td>\n",
              "      <td id=\"T_cc08c_row3_col1\" class=\"data row3 col1\" >0.983957</td>\n",
              "      <td id=\"T_cc08c_row3_col2\" class=\"data row3 col2\" >1.000000</td>\n",
              "      <td id=\"T_cc08c_row3_col3\" class=\"data row3 col3\" >0.967742</td>\n",
              "      <td id=\"T_cc08c_row3_col4\" class=\"data row3 col4\" >0.969072</td>\n",
              "      <td id=\"T_cc08c_row3_col5\" class=\"data row3 col5\" >1.000000</td>\n",
              "    </tr>\n",
              "    <tr>\n",
              "      <th id=\"T_cc08c_level0_row4\" class=\"row_heading level0 row4\" >4</th>\n",
              "      <td id=\"T_cc08c_row4_col0\" class=\"data row4 col0\" >0.946237</td>\n",
              "      <td id=\"T_cc08c_row4_col1\" class=\"data row4 col1\" >0.946524</td>\n",
              "      <td id=\"T_cc08c_row4_col2\" class=\"data row4 col2\" >1.000000</td>\n",
              "      <td id=\"T_cc08c_row4_col3\" class=\"data row4 col3\" >0.892473</td>\n",
              "      <td id=\"T_cc08c_row4_col4\" class=\"data row4 col4\" >0.903846</td>\n",
              "      <td id=\"T_cc08c_row4_col5\" class=\"data row4 col5\" >1.000000</td>\n",
              "    </tr>\n",
              "    <tr>\n",
              "      <th id=\"T_cc08c_level0_row5\" class=\"row_heading level0 row5\" >5</th>\n",
              "      <td id=\"T_cc08c_row5_col0\" class=\"data row5 col0\" >0.957104</td>\n",
              "      <td id=\"T_cc08c_row5_col1\" class=\"data row5 col1\" >0.957219</td>\n",
              "      <td id=\"T_cc08c_row5_col2\" class=\"data row5 col2\" >0.978723</td>\n",
              "      <td id=\"T_cc08c_row5_col3\" class=\"data row5 col3\" >0.935484</td>\n",
              "      <td id=\"T_cc08c_row5_col4\" class=\"data row5 col4\" >0.938776</td>\n",
              "      <td id=\"T_cc08c_row5_col5\" class=\"data row5 col5\" >0.977528</td>\n",
              "    </tr>\n",
              "    <tr>\n",
              "      <th id=\"T_cc08c_level0_row6\" class=\"row_heading level0 row6\" >6</th>\n",
              "      <td id=\"T_cc08c_row6_col0\" class=\"data row6 col0\" >0.909117</td>\n",
              "      <td id=\"T_cc08c_row6_col1\" class=\"data row6 col1\" >0.909091</td>\n",
              "      <td id=\"T_cc08c_row6_col2\" class=\"data row6 col2\" >0.904255</td>\n",
              "      <td id=\"T_cc08c_row6_col3\" class=\"data row6 col3\" >0.913978</td>\n",
              "      <td id=\"T_cc08c_row6_col4\" class=\"data row6 col4\" >0.913978</td>\n",
              "      <td id=\"T_cc08c_row6_col5\" class=\"data row6 col5\" >0.904255</td>\n",
              "    </tr>\n",
              "    <tr>\n",
              "      <th id=\"T_cc08c_level0_row7\" class=\"row_heading level0 row7\" >7</th>\n",
              "      <td id=\"T_cc08c_row7_col0\" class=\"data row7 col0\" >0.866221</td>\n",
              "      <td id=\"T_cc08c_row7_col1\" class=\"data row7 col1\" >0.866310</td>\n",
              "      <td id=\"T_cc08c_row7_col2\" class=\"data row7 col2\" >0.882979</td>\n",
              "      <td id=\"T_cc08c_row7_col3\" class=\"data row7 col3\" >0.849462</td>\n",
              "      <td id=\"T_cc08c_row7_col4\" class=\"data row7 col4\" >0.855670</td>\n",
              "      <td id=\"T_cc08c_row7_col5\" class=\"data row7 col5\" >0.877778</td>\n",
              "    </tr>\n",
              "    <tr>\n",
              "      <th id=\"T_cc08c_level0_row8\" class=\"row_heading level0 row8\" >8</th>\n",
              "      <td id=\"T_cc08c_row8_col0\" class=\"data row8 col0\" >0.941203</td>\n",
              "      <td id=\"T_cc08c_row8_col1\" class=\"data row8 col1\" >0.941176</td>\n",
              "      <td id=\"T_cc08c_row8_col2\" class=\"data row8 col2\" >0.936170</td>\n",
              "      <td id=\"T_cc08c_row8_col3\" class=\"data row8 col3\" >0.946237</td>\n",
              "      <td id=\"T_cc08c_row8_col4\" class=\"data row8 col4\" >0.946237</td>\n",
              "      <td id=\"T_cc08c_row8_col5\" class=\"data row8 col5\" >0.936170</td>\n",
              "    </tr>\n",
              "    <tr>\n",
              "      <th id=\"T_cc08c_level0_row9\" class=\"row_heading level0 row9\" >9</th>\n",
              "      <td id=\"T_cc08c_row9_col0\" class=\"data row9 col0\" >0.978432</td>\n",
              "      <td id=\"T_cc08c_row9_col1\" class=\"data row9 col1\" >0.978610</td>\n",
              "      <td id=\"T_cc08c_row9_col2\" class=\"data row9 col2\" >0.989474</td>\n",
              "      <td id=\"T_cc08c_row9_col3\" class=\"data row9 col3\" >0.967391</td>\n",
              "      <td id=\"T_cc08c_row9_col4\" class=\"data row9 col4\" >0.969072</td>\n",
              "      <td id=\"T_cc08c_row9_col5\" class=\"data row9 col5\" >0.988889</td>\n",
              "    </tr>\n",
              "    <tr>\n",
              "      <th id=\"T_cc08c_level0_row10\" class=\"row_heading level0 row10\" >mean</th>\n",
              "      <td id=\"T_cc08c_row10_col0\" class=\"data row10 col0\" >0.950222</td>\n",
              "      <td id=\"T_cc08c_row10_col1\" class=\"data row10 col1\" >0.950296</td>\n",
              "      <td id=\"T_cc08c_row10_col2\" class=\"data row10 col2\" >0.962844</td>\n",
              "      <td id=\"T_cc08c_row10_col3\" class=\"data row10 col3\" >0.937599</td>\n",
              "      <td id=\"T_cc08c_row10_col4\" class=\"data row10 col4\" >0.940448</td>\n",
              "      <td id=\"T_cc08c_row10_col5\" class=\"data row10 col5\" >0.962076</td>\n",
              "    </tr>\n",
              "    <tr>\n",
              "      <th id=\"T_cc08c_level0_row11\" class=\"row_heading level0 row11\" >std</th>\n",
              "      <td id=\"T_cc08c_row11_col0\" class=\"data row11 col0\" >0.037496</td>\n",
              "      <td id=\"T_cc08c_row11_col1\" class=\"data row11 col1\" >0.037496</td>\n",
              "      <td id=\"T_cc08c_row11_col2\" class=\"data row11 col2\" >0.041750</td>\n",
              "      <td id=\"T_cc08c_row11_col3\" class=\"data row11 col3\" >0.042924</td>\n",
              "      <td id=\"T_cc08c_row11_col4\" class=\"data row11 col4\" >0.040621</td>\n",
              "      <td id=\"T_cc08c_row11_col5\" class=\"data row11 col5\" >0.042773</td>\n",
              "    </tr>\n",
              "  </tbody>\n",
              "</table>\n"
            ],
            "text/plain": [
              "<pandas.io.formats.style.Styler at 0x7f96c9cb0c90>"
            ]
          },
          "metadata": {},
          "execution_count": 18
        }
      ]
    },
    {
      "cell_type": "markdown",
      "source": [
        "## Cross Validation de una red neuronal"
      ],
      "metadata": {
        "id": "p04sjz5bquAt"
      }
    },
    {
      "cell_type": "code",
      "source": [
        "from sklearn.neural_network import MLPClassifier\n",
        "clf = MLPClassifier(activation='logistic', alpha=1e-5, hidden_layer_sizes=(50, 50), random_state=1)\n",
        "evaluate_model(\n",
        "    clf,\n",
        "    BagOfWords(min_frequency=2).fit_transform(noticia_tokenizada),\n",
        "    df_y)"
      ],
      "metadata": {
        "colab": {
          "base_uri": "https://localhost:8080/",
          "height": 477
        },
        "id": "dCIeQrmtELvm",
        "outputId": "db44bf67-982b-4566-ab44-fe085a9bf59f"
      },
      "execution_count": null,
      "outputs": [
        {
          "output_type": "execute_result",
          "data": {
            "text/html": [
              "<style type=\"text/css\">\n",
              "#T_672b9_row0_col0, #T_672b9_row0_col1, #T_672b9_row0_col2, #T_672b9_row0_col3, #T_672b9_row0_col4, #T_672b9_row0_col5, #T_672b9_row1_col0, #T_672b9_row1_col1, #T_672b9_row1_col2, #T_672b9_row1_col3, #T_672b9_row1_col4, #T_672b9_row1_col5, #T_672b9_row2_col0, #T_672b9_row2_col1, #T_672b9_row2_col2, #T_672b9_row2_col3, #T_672b9_row2_col4, #T_672b9_row2_col5, #T_672b9_row3_col0, #T_672b9_row3_col1, #T_672b9_row3_col2, #T_672b9_row3_col3, #T_672b9_row3_col4, #T_672b9_row3_col5, #T_672b9_row4_col0, #T_672b9_row4_col1, #T_672b9_row4_col2, #T_672b9_row4_col3, #T_672b9_row4_col4, #T_672b9_row4_col5, #T_672b9_row5_col0, #T_672b9_row5_col1, #T_672b9_row5_col2, #T_672b9_row5_col3, #T_672b9_row5_col4, #T_672b9_row5_col5, #T_672b9_row6_col0, #T_672b9_row6_col1, #T_672b9_row6_col2, #T_672b9_row6_col3, #T_672b9_row6_col4, #T_672b9_row6_col5, #T_672b9_row7_col0, #T_672b9_row7_col1, #T_672b9_row7_col2, #T_672b9_row7_col3, #T_672b9_row7_col4, #T_672b9_row7_col5, #T_672b9_row8_col0, #T_672b9_row8_col1, #T_672b9_row8_col2, #T_672b9_row8_col3, #T_672b9_row8_col4, #T_672b9_row8_col5, #T_672b9_row9_col0, #T_672b9_row9_col1, #T_672b9_row9_col2, #T_672b9_row9_col3, #T_672b9_row9_col4, #T_672b9_row9_col5, #T_672b9_row11_col0, #T_672b9_row11_col1, #T_672b9_row11_col2, #T_672b9_row11_col3, #T_672b9_row11_col4, #T_672b9_row11_col5 {\n",
              "  background-color: white;\n",
              "}\n",
              "#T_672b9_row10_col0, #T_672b9_row10_col1, #T_672b9_row10_col2, #T_672b9_row10_col3, #T_672b9_row10_col4, #T_672b9_row10_col5 {\n",
              "  background-color: yellow;\n",
              "}\n",
              "</style>\n",
              "<table id=\"T_672b9_\" class=\"dataframe\">\n",
              "  <thead>\n",
              "    <tr>\n",
              "      <th class=\"blank level0\" >&nbsp;</th>\n",
              "      <th class=\"col_heading level0 col0\" colspan=\"6\">test</th>\n",
              "    </tr>\n",
              "    <tr>\n",
              "      <th class=\"blank level1\" >&nbsp;</th>\n",
              "      <th class=\"col_heading level1 col0\" >recall_macro</th>\n",
              "      <th class=\"col_heading level1 col1\" >accuracy</th>\n",
              "      <th class=\"col_heading level1 col2\" >recall_neg</th>\n",
              "      <th class=\"col_heading level1 col3\" >recall_pos</th>\n",
              "      <th class=\"col_heading level1 col4\" >precision_neg</th>\n",
              "      <th class=\"col_heading level1 col5\" >precision_pos</th>\n",
              "    </tr>\n",
              "  </thead>\n",
              "  <tbody>\n",
              "    <tr>\n",
              "      <th id=\"T_672b9_level0_row0\" class=\"row_heading level0 row0\" >0</th>\n",
              "      <td id=\"T_672b9_row0_col0\" class=\"data row0 col0\" >0.994624</td>\n",
              "      <td id=\"T_672b9_row0_col1\" class=\"data row0 col1\" >0.994681</td>\n",
              "      <td id=\"T_672b9_row0_col2\" class=\"data row0 col2\" >1.000000</td>\n",
              "      <td id=\"T_672b9_row0_col3\" class=\"data row0 col3\" >0.989247</td>\n",
              "      <td id=\"T_672b9_row0_col4\" class=\"data row0 col4\" >0.989583</td>\n",
              "      <td id=\"T_672b9_row0_col5\" class=\"data row0 col5\" >1.000000</td>\n",
              "    </tr>\n",
              "    <tr>\n",
              "      <th id=\"T_672b9_level0_row1\" class=\"row_heading level0 row1\" >1</th>\n",
              "      <td id=\"T_672b9_row1_col0\" class=\"data row1 col0\" >0.963045</td>\n",
              "      <td id=\"T_672b9_row1_col1\" class=\"data row1 col1\" >0.962766</td>\n",
              "      <td id=\"T_672b9_row1_col2\" class=\"data row1 col2\" >0.936842</td>\n",
              "      <td id=\"T_672b9_row1_col3\" class=\"data row1 col3\" >0.989247</td>\n",
              "      <td id=\"T_672b9_row1_col4\" class=\"data row1 col4\" >0.988889</td>\n",
              "      <td id=\"T_672b9_row1_col5\" class=\"data row1 col5\" >0.938776</td>\n",
              "    </tr>\n",
              "    <tr>\n",
              "      <th id=\"T_672b9_level0_row2\" class=\"row_heading level0 row2\" >2</th>\n",
              "      <td id=\"T_672b9_row2_col0\" class=\"data row2 col0\" >0.967914</td>\n",
              "      <td id=\"T_672b9_row2_col1\" class=\"data row2 col1\" >0.967914</td>\n",
              "      <td id=\"T_672b9_row2_col2\" class=\"data row2 col2\" >0.968085</td>\n",
              "      <td id=\"T_672b9_row2_col3\" class=\"data row2 col3\" >0.967742</td>\n",
              "      <td id=\"T_672b9_row2_col4\" class=\"data row2 col4\" >0.968085</td>\n",
              "      <td id=\"T_672b9_row2_col5\" class=\"data row2 col5\" >0.967742</td>\n",
              "    </tr>\n",
              "    <tr>\n",
              "      <th id=\"T_672b9_level0_row3\" class=\"row_heading level0 row3\" >3</th>\n",
              "      <td id=\"T_672b9_row3_col0\" class=\"data row3 col0\" >0.994624</td>\n",
              "      <td id=\"T_672b9_row3_col1\" class=\"data row3 col1\" >0.994652</td>\n",
              "      <td id=\"T_672b9_row3_col2\" class=\"data row3 col2\" >1.000000</td>\n",
              "      <td id=\"T_672b9_row3_col3\" class=\"data row3 col3\" >0.989247</td>\n",
              "      <td id=\"T_672b9_row3_col4\" class=\"data row3 col4\" >0.989474</td>\n",
              "      <td id=\"T_672b9_row3_col5\" class=\"data row3 col5\" >1.000000</td>\n",
              "    </tr>\n",
              "    <tr>\n",
              "      <th id=\"T_672b9_level0_row4\" class=\"row_heading level0 row4\" >4</th>\n",
              "      <td id=\"T_672b9_row4_col0\" class=\"data row4 col0\" >0.989305</td>\n",
              "      <td id=\"T_672b9_row4_col1\" class=\"data row4 col1\" >0.989305</td>\n",
              "      <td id=\"T_672b9_row4_col2\" class=\"data row4 col2\" >0.989362</td>\n",
              "      <td id=\"T_672b9_row4_col3\" class=\"data row4 col3\" >0.989247</td>\n",
              "      <td id=\"T_672b9_row4_col4\" class=\"data row4 col4\" >0.989362</td>\n",
              "      <td id=\"T_672b9_row4_col5\" class=\"data row4 col5\" >0.989247</td>\n",
              "    </tr>\n",
              "    <tr>\n",
              "      <th id=\"T_672b9_level0_row5\" class=\"row_heading level0 row5\" >5</th>\n",
              "      <td id=\"T_672b9_row5_col0\" class=\"data row5 col0\" >0.962594</td>\n",
              "      <td id=\"T_672b9_row5_col1\" class=\"data row5 col1\" >0.962567</td>\n",
              "      <td id=\"T_672b9_row5_col2\" class=\"data row5 col2\" >0.957447</td>\n",
              "      <td id=\"T_672b9_row5_col3\" class=\"data row5 col3\" >0.967742</td>\n",
              "      <td id=\"T_672b9_row5_col4\" class=\"data row5 col4\" >0.967742</td>\n",
              "      <td id=\"T_672b9_row5_col5\" class=\"data row5 col5\" >0.957447</td>\n",
              "    </tr>\n",
              "    <tr>\n",
              "      <th id=\"T_672b9_level0_row6\" class=\"row_heading level0 row6\" >6</th>\n",
              "      <td id=\"T_672b9_row6_col0\" class=\"data row6 col0\" >0.941375</td>\n",
              "      <td id=\"T_672b9_row6_col1\" class=\"data row6 col1\" >0.941176</td>\n",
              "      <td id=\"T_672b9_row6_col2\" class=\"data row6 col2\" >0.904255</td>\n",
              "      <td id=\"T_672b9_row6_col3\" class=\"data row6 col3\" >0.978495</td>\n",
              "      <td id=\"T_672b9_row6_col4\" class=\"data row6 col4\" >0.977011</td>\n",
              "      <td id=\"T_672b9_row6_col5\" class=\"data row6 col5\" >0.910000</td>\n",
              "    </tr>\n",
              "    <tr>\n",
              "      <th id=\"T_672b9_level0_row7\" class=\"row_heading level0 row7\" >7</th>\n",
              "      <td id=\"T_672b9_row7_col0\" class=\"data row7 col0\" >0.941261</td>\n",
              "      <td id=\"T_672b9_row7_col1\" class=\"data row7 col1\" >0.941176</td>\n",
              "      <td id=\"T_672b9_row7_col2\" class=\"data row7 col2\" >0.925532</td>\n",
              "      <td id=\"T_672b9_row7_col3\" class=\"data row7 col3\" >0.956989</td>\n",
              "      <td id=\"T_672b9_row7_col4\" class=\"data row7 col4\" >0.956044</td>\n",
              "      <td id=\"T_672b9_row7_col5\" class=\"data row7 col5\" >0.927083</td>\n",
              "    </tr>\n",
              "    <tr>\n",
              "      <th id=\"T_672b9_level0_row8\" class=\"row_heading level0 row8\" >8</th>\n",
              "      <td id=\"T_672b9_row8_col0\" class=\"data row8 col0\" >0.935884</td>\n",
              "      <td id=\"T_672b9_row8_col1\" class=\"data row8 col1\" >0.935829</td>\n",
              "      <td id=\"T_672b9_row8_col2\" class=\"data row8 col2\" >0.925532</td>\n",
              "      <td id=\"T_672b9_row8_col3\" class=\"data row8 col3\" >0.946237</td>\n",
              "      <td id=\"T_672b9_row8_col4\" class=\"data row8 col4\" >0.945652</td>\n",
              "      <td id=\"T_672b9_row8_col5\" class=\"data row8 col5\" >0.926316</td>\n",
              "    </tr>\n",
              "    <tr>\n",
              "      <th id=\"T_672b9_level0_row9\" class=\"row_heading level0 row9\" >9</th>\n",
              "      <td id=\"T_672b9_row9_col0\" class=\"data row9 col0\" >0.973169</td>\n",
              "      <td id=\"T_672b9_row9_col1\" class=\"data row9 col1\" >0.973262</td>\n",
              "      <td id=\"T_672b9_row9_col2\" class=\"data row9 col2\" >0.978947</td>\n",
              "      <td id=\"T_672b9_row9_col3\" class=\"data row9 col3\" >0.967391</td>\n",
              "      <td id=\"T_672b9_row9_col4\" class=\"data row9 col4\" >0.968750</td>\n",
              "      <td id=\"T_672b9_row9_col5\" class=\"data row9 col5\" >0.978022</td>\n",
              "    </tr>\n",
              "    <tr>\n",
              "      <th id=\"T_672b9_level0_row10\" class=\"row_heading level0 row10\" >mean</th>\n",
              "      <td id=\"T_672b9_row10_col0\" class=\"data row10 col0\" >0.966379</td>\n",
              "      <td id=\"T_672b9_row10_col1\" class=\"data row10 col1\" >0.966333</td>\n",
              "      <td id=\"T_672b9_row10_col2\" class=\"data row10 col2\" >0.958600</td>\n",
              "      <td id=\"T_672b9_row10_col3\" class=\"data row10 col3\" >0.974158</td>\n",
              "      <td id=\"T_672b9_row10_col4\" class=\"data row10 col4\" >0.974059</td>\n",
              "      <td id=\"T_672b9_row10_col5\" class=\"data row10 col5\" >0.959463</td>\n",
              "    </tr>\n",
              "    <tr>\n",
              "      <th id=\"T_672b9_level0_row11\" class=\"row_heading level0 row11\" >std</th>\n",
              "      <td id=\"T_672b9_row11_col0\" class=\"data row11 col0\" >0.022063</td>\n",
              "      <td id=\"T_672b9_row11_col1\" class=\"data row11 col1\" >0.022128</td>\n",
              "      <td id=\"T_672b9_row11_col2\" class=\"data row11 col2\" >0.034146</td>\n",
              "      <td id=\"T_672b9_row11_col3\" class=\"data row11 col3\" >0.015391</td>\n",
              "      <td id=\"T_672b9_row11_col4\" class=\"data row11 col4\" >0.015552</td>\n",
              "      <td id=\"T_672b9_row11_col5\" class=\"data row11 col5\" >0.032681</td>\n",
              "    </tr>\n",
              "  </tbody>\n",
              "</table>\n"
            ],
            "text/plain": [
              "<pandas.io.formats.style.Styler at 0x7f96c9d17a50>"
            ]
          },
          "metadata": {},
          "execution_count": 19
        }
      ]
    },
    {
      "cell_type": "markdown",
      "source": [
        "## Creamos el modelo para importarlo de la red neuronal"
      ],
      "metadata": {
        "id": "tdxIqdnIqx_3"
      }
    },
    {
      "cell_type": "code",
      "source": [
        "from sklearn.pipeline import Pipeline\n",
        "from sklearn.neural_network import MLPClassifier\n",
        "\n",
        "final_model = Pipeline([\n",
        "    ('cls',MLPClassifier(activation='logistic', alpha=1e-5, hidden_layer_sizes=(50, 50), random_state=1))\n",
        "])\n",
        "\n",
        "final_model.fit(BagOfWords(min_frequency=2).fit_transform(noticia_tokenizada).toarray(), df_y)"
      ],
      "metadata": {
        "colab": {
          "base_uri": "https://localhost:8080/"
        },
        "id": "vX-UCpspDTg_",
        "outputId": "3ac87932-caf2-478b-85b2-40723f9fcdb8"
      },
      "execution_count": null,
      "outputs": [
        {
          "output_type": "execute_result",
          "data": {
            "text/plain": [
              "Pipeline(steps=[('cls',\n",
              "                 MLPClassifier(activation='logistic', alpha=1e-05,\n",
              "                               hidden_layer_sizes=(50, 50), random_state=1))])"
            ]
          },
          "metadata": {},
          "execution_count": 20
        }
      ]
    },
    {
      "cell_type": "code",
      "source": [
        "import joblib\n",
        "joblib.dump(final_model, 'modelo_odio.pkl', compress=9)"
      ],
      "metadata": {
        "colab": {
          "base_uri": "https://localhost:8080/"
        },
        "id": "zooXEfDpDzQ2",
        "outputId": "49f75983-0555-46a6-e5d9-d2fc860337c3"
      },
      "execution_count": null,
      "outputs": [
        {
          "output_type": "execute_result",
          "data": {
            "text/plain": [
              "['modelo_odio.pkl']"
            ]
          },
          "metadata": {},
          "execution_count": 21
        }
      ]
    },
    {
      "cell_type": "code",
      "source": [
        "from collections import Counter\n",
        "known_words = [element for list_ in noticia_tokenizada.values for element in list_]\n",
        "known_dup = []\n",
        "for key,value in Counter(known_words).items():\n",
        "  if value >1:\n",
        "    known_dup.append(key)\n"
      ],
      "metadata": {
        "id": "QApVYjEzols9"
      },
      "execution_count": null,
      "outputs": []
    },
    {
      "cell_type": "code",
      "source": [
        "import pickle\n",
        "open_file = open(\"word_list.pkl\", \"wb\")\n",
        "pickle.dump(known_dup, open_file)\n",
        "open_file.close()\n"
      ],
      "metadata": {
        "id": "LOH8F1sbdlQ2"
      },
      "execution_count": null,
      "outputs": []
    }
  ]
}